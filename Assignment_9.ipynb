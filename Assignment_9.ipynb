{
 "cells": [
  {
   "attachments": {
    "25.PNG": {
     "image/png": "[encoded data removed]"
    },
    "26.PNG": {
     "image/png": "[encoded data removed]"
    }
   },
   "cell_type": "markdown",
   "metadata": {},
   "source": [
    "# DATA GIVEN\n",
    "![25.PNG](attachment:25.PNG)\n",
    "![26.PNG](attachment:26.PNG)"
   ]
  },
  {
   "cell_type": "markdown",
   "metadata": {},
   "source": [
    "# 1. Find the maximum and minimum and sum of all the radiation amounts."
   ]
  },
  {
   "cell_type": "markdown",
   "metadata": {},
   "source": [
    "# SOLUTION:"
   ]
  },
  {
   "cell_type": "markdown",
   "metadata": {},
   "source": [
    "# MAX(A2:A41)"
   ]
  },
  {
   "cell_type": "markdown",
   "metadata": {},
   "source": [
    "# MIN(A2:A41)"
   ]
  },
  {
   "cell_type": "markdown",
   "metadata": {},
   "source": [
    "# SUM(A2:A41)"
   ]
  },
  {
   "attachments": {
    "27.PNG": {
     "image/png": "[encoded data removed]"
    }
   },
   "cell_type": "markdown",
   "metadata": {},
   "source": [
    "# OUTPUT\n",
    "![27.PNG](attachment:27.PNG)"
   ]
  },
  {
   "cell_type": "markdown",
   "metadata": {},
   "source": [
    "# 2. Average  radiation amount"
   ]
  },
  {
   "cell_type": "markdown",
   "metadata": {},
   "source": [
    "# Solution\n",
    "# AVERAGE(A2:A41)"
   ]
  },
  {
   "attachments": {
    "28.PNG": {
     "image/png": "[encoded data removed]"
    }
   },
   "cell_type": "markdown",
   "metadata": {},
   "source": [
    "# OUTPUT\n",
    "![28.PNG](attachment:28.PNG)"
   ]
  },
  {
   "cell_type": "markdown",
   "metadata": {},
   "source": [
    "# 3. Find the count and Rank"
   ]
  },
  {
   "cell_type": "markdown",
   "metadata": {},
   "source": [
    "# Solution:\n",
    "# =COUNT(A2:A41)\n",
    "# =RANK.AVG(A2,A2:A41)"
   ]
  },
  {
   "attachments": {
    "29.PNG": {
     "image/png": "[encoded data removed]"
    }
   },
   "cell_type": "markdown",
   "metadata": {},
   "source": [
    "# OUTPUT\n",
    "![29.PNG](attachment:29.PNG)"
   ]
  },
  {
   "cell_type": "markdown",
   "metadata": {},
   "source": [
    "# 4. Compute the mean and standard deviation of the radiation amounts."
   ]
  },
  {
   "cell_type": "markdown",
   "metadata": {},
   "source": [
    "# SOLUTION\n",
    "# =AVERAGE(A2:A41)\n",
    "# =STDEV(A2:A41)"
   ]
  },
  {
   "attachments": {
    "30.PNG": {
     "image/png": "[encoded data removed]"
    }
   },
   "cell_type": "markdown",
   "metadata": {},
   "source": [
    "# OUTPUT:\n",
    "![30.PNG](attachment:30.PNG)"
   ]
  },
  {
   "cell_type": "markdown",
   "metadata": {},
   "source": [
    "# 5. Describe a certain objective a researcher might have had in mind when collecting this data"
   ]
  },
  {
   "cell_type": "markdown",
   "metadata": {},
   "source": [
    "# ANSWER\n",
    "# At high doses, radiation therapy kills cancer cells or slows their growth by damaging their DNA."
   ]
  },
  {
   "cell_type": "markdown",
   "metadata": {},
   "source": [
    "# Lifetime Dose Limits:\n",
    "There is a limit to the amount of radiation an area of your body can safely receive over the course of your lifetime. Depending on how much radiation an area has already been treated with, you may not be able to have radiation therapy to that area a second time. But, if one area of the body has already received the safe lifetime dose of radiation, another area might still be treated if the distance between the two areas is large enough."
   ]
  },
  {
   "cell_type": "markdown",
   "metadata": {},
   "source": [
    "# CONCLUSION:\n",
    "#Practically speaking,Radiation amount data alone is not sufficient to analyse the data;With this kind of data we have,we can just calculate  the measures of central tendency and  measures of variability that comes under descriptive statistics;For analyzing the data further we should have some other attributes(on which this radiation amount depends) so that we can get better insights from the data  \n",
    "\n",
    "\n",
    "\n",
    "\n",
    "\n",
    "# CASE-1:\n",
    "When radiation therapy is used to kill cancerous cells in the body, it is important to measure the dose correctly to avoid unnecessary damage to normal cells in the body.\n",
    "In order to predict the amount of radiation a person can bear depending on the stage and type of cancer,gender,age and other comorbidities."
   ]
  },
  {
   "cell_type": "markdown",
   "metadata": {},
   "source": [
    "# CASE - 2:\n",
    "If we think the following data  along with Radiation amount is there: \n",
    "DEPENDING UPON THE TYPE OF CANCER AND THE AMOUNT OF RADIATION A PATIENT RECEIVES and along with this we have further information on  attributes like how the patient's life style has changed and further health complications the patient faced \n",
    "\n",
    "\n",
    "\n",
    "Requirement:\n",
    "TO COME UP WITH A SOLUTION TO OVERCOME THE AFTER CONSEQUENCES BY ANALYSING THE DATA FOR ENHANCING THE QUALITY OF LIFE OF THE PATIENT POST RADIATION TREATMENT. "
   ]
  }
 ],
 "metadata": {
  "kernelspec": {
   "display_name": "Python 3",
   "language": "python",
   "name": "python3"
  },
  "language_info": {
   "codemirror_mode": {
    "name": "ipython",
    "version": 3
   },
   "file_extension": ".py",
   "mimetype": "text/x-python",
   "name": "python",
   "nbconvert_exporter": "python",
   "pygments_lexer": "ipython3",
   "version": "3.8.3"
  }
 },
 "nbformat": 4,
 "nbformat_minor": 4
}
